{
  "nbformat": 4,
  "nbformat_minor": 0,
  "metadata": {
    "colab": {
      "name": "0530.ipynb",
      "provenance": [],
      "authorship_tag": "ABX9TyNOGD8Lsy2vAwrQaJTey9M/",
      "include_colab_link": true
    },
    "kernelspec": {
      "name": "python3",
      "display_name": "Python 3"
    },
    "language_info": {
      "name": "python"
    }
  },
  "cells": [
    {
      "cell_type": "markdown",
      "metadata": {
        "id": "view-in-github",
        "colab_type": "text"
      },
      "source": [
        "<a href=\"https://colab.research.google.com/github/Smokeweieveryday/Introduction-to-computers/blob/main/0530.ipynb\" target=\"_parent\"><img src=\"https://colab.research.google.com/assets/colab-badge.svg\" alt=\"Open In Colab\"/></a>"
      ]
    },
    {
      "cell_type": "code",
      "execution_count": null,
      "metadata": {
        "id": "eVzWVu9YBgMG",
        "colab": {
          "base_uri": "https://localhost:8080/"
        },
        "outputId": "5e8dc492-f27e-4aa3-f03c-34f698b29955"
      },
      "outputs": [
        {
          "output_type": "stream",
          "name": "stdout",
          "text": [
            "55\n"
          ]
        }
      ],
      "source": [
        "total = n = 0\n",
        "while(n<=10):\n",
        "  total += n\n",
        "  n += 1\n",
        "print(total)"
      ]
    },
    {
      "cell_type": "code",
      "source": [
        "total = n = 0\n",
        "while n<=10:\n",
        "  total += n\n",
        "  n += 1\n",
        "print(total)"
      ],
      "metadata": {
        "colab": {
          "base_uri": "https://localhost:8080/"
        },
        "id": "2MJbn3MzI3fu",
        "outputId": "33ec11f1-d3d0-41ac-a2eb-0e8ffa4902f2"
      },
      "execution_count": null,
      "outputs": [
        {
          "output_type": "stream",
          "name": "stdout",
          "text": [
            "55\n"
          ]
        }
      ]
    },
    {
      "cell_type": "code",
      "source": [
        "a= int(input(\"請輸入正整數\"))\n",
        "total = b = 1\n",
        "while b <= a:\n",
        "  total *= b\n",
        "  b+=1\n",
        "print(a,\"！\",\"=\",total)"
      ],
      "metadata": {
        "colab": {
          "base_uri": "https://localhost:8080/"
        },
        "id": "Zu3S1vmAKJtR",
        "outputId": "d3eee5b4-9145-4040-a28d-b5c63331e9cf"
      },
      "execution_count": null,
      "outputs": [
        {
          "output_type": "stream",
          "name": "stdout",
          "text": [
            "請輸入正整數5\n",
            "5 ！ = 120\n"
          ]
        }
      ]
    },
    {
      "cell_type": "code",
      "source": [
        "total=n=k=0\n",
        "n=2*k\n",
        "while(k<25):\n",
        "  k += 1\n",
        "  n=2*k\n",
        "  total=total+n\n",
        "print(\"0到50的偶數和結果是\",total)\n",
        "\n"
      ],
      "metadata": {
        "id": "S184fLiGNpxh",
        "colab": {
          "base_uri": "https://localhost:8080/"
        },
        "outputId": "64a55bc6-00c3-412c-d3ed-248a8813f394"
      },
      "execution_count": null,
      "outputs": [
        {
          "output_type": "stream",
          "name": "stdout",
          "text": [
            "0到50的偶數和結果是 650\n"
          ]
        }
      ]
    },
    {
      "cell_type": "code",
      "source": [
        "total=n=k=0\n",
        "while(k<25):\n",
        "  n=2*k+1\n",
        "  k=k+1\n",
        "  total=total+n\n",
        "print(\"0到50的奇數和結果是\",total)"
      ],
      "metadata": {
        "id": "eiluVkx3MNDz",
        "colab": {
          "base_uri": "https://localhost:8080/"
        },
        "outputId": "0edb3ba6-d472-4430-c0ed-ccd328149acb"
      },
      "execution_count": null,
      "outputs": [
        {
          "output_type": "stream",
          "name": "stdout",
          "text": [
            "0到50的奇數和結果是 625\n"
          ]
        }
      ]
    },
    {
      "cell_type": "code",
      "source": [
        "a=int(input(\"請輸入正整數\"))\n",
        "while(a>0):\n",
        "  for c in range(0,a):\n",
        "    c='*'\n",
        "    print(c,end=\"\\t\")\n",
        "  print(end=\"\\n\")\n",
        "  a=a-1"
      ],
      "metadata": {
        "colab": {
          "base_uri": "https://localhost:8080/"
        },
        "id": "vUiP1StPlaHe",
        "outputId": "ee52afb6-53f8-4554-b883-b16a4e8f7f9e"
      },
      "execution_count": null,
      "outputs": [
        {
          "output_type": "stream",
          "name": "stdout",
          "text": [
            "請輸入正整數5\n",
            "*\t*\t*\t*\t*\t\n",
            "*\t*\t*\t*\t\n",
            "*\t*\t*\t\n",
            "*\t*\t\n",
            "*\t\n"
          ]
        }
      ]
    },
    {
      "cell_type": "code",
      "source": [
        "z=a=0\n",
        "while(a+3<100):\n",
        "  a=a+3\n",
        "  #print(a)\n",
        "  z=z+a\n",
        "#print(z)\n",
        "\n",
        "y=b=0\n",
        "while(b+7<100):\n",
        "  b=b+7\n",
        "  #print(b)\n",
        "  y=y+b\n",
        "#print(y)\n",
        "\n",
        "x=c=0\n",
        "while(c+21<100):\n",
        "  c=c+21\n",
        "  #print(c)\n",
        "  x=x+c\n",
        "print(\"數值0~100中，所有是3和7倍數的數之總和\",z+y-x)\n",
        "\n",
        "\n"
      ],
      "metadata": {
        "colab": {
          "base_uri": "https://localhost:8080/"
        },
        "id": "KtHDpbMbma_Y",
        "outputId": "f6218fc0-575c-45ff-bfa6-f27a17e631be"
      },
      "execution_count": 112,
      "outputs": [
        {
          "output_type": "stream",
          "name": "stdout",
          "text": [
            "數值0~100中，所有是3和7倍數的數之總和 2208\n"
          ]
        }
      ]
    },
    {
      "cell_type": "code",
      "source": [
        "c=0\n",
        "a=int(input(\"請輸入正整數\"))\n",
        "for b in range(a,1,-1):\n",
        "  if (a%b!=0):\n",
        "    #print(b)\n",
        "    continue\n",
        "  print(b,end=\" \")\n",
        "  c=c+1\n",
        "\n",
        "if c>1:\n",
        "  print(a,\"不是質數\")\n",
        "else:\n",
        "  print(a,\"是質數\")"
      ],
      "metadata": {
        "colab": {
          "base_uri": "https://localhost:8080/"
        },
        "id": "GotPbrH9q2mj",
        "outputId": "f8df8beb-b186-49a3-8a94-50cffac14e23"
      },
      "execution_count": 129,
      "outputs": [
        {
          "output_type": "stream",
          "name": "stdout",
          "text": [
            "請輸入正整數11\n",
            "11 11 是質數\t"
          ]
        }
      ]
    }
  ]
}
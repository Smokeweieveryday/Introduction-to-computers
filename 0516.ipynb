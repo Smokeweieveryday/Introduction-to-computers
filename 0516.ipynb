{
  "nbformat": 4,
  "nbformat_minor": 0,
  "metadata": {
    "colab": {
      "name": "0516.ipynb",
      "provenance": [],
      "authorship_tag": "ABX9TyNWvuPFTu1IpZ9iTepZI7eT",
      "include_colab_link": true
    },
    "kernelspec": {
      "name": "python3",
      "display_name": "Python 3"
    },
    "language_info": {
      "name": "python"
    }
  },
  "cells": [
    {
      "cell_type": "markdown",
      "metadata": {
        "id": "view-in-github",
        "colab_type": "text"
      },
      "source": [
        "<a href=\"https://colab.research.google.com/github/Smokeweieveryday/Introduction-to-computers/blob/main/0516.ipynb\" target=\"_parent\"><img src=\"https://colab.research.google.com/assets/colab-badge.svg\" alt=\"Open In Colab\"/></a>"
      ]
    },
    {
      "cell_type": "code",
      "execution_count": null,
      "metadata": {
        "id": "o2eYRZ_o7z3H",
        "colab": {
          "base_uri": "https://localhost:8080/"
        },
        "outputId": "21b405b5-fd72-440a-a99c-af33c6b95f90"
      },
      "outputs": [
        {
          "output_type": "stream",
          "name": "stdout",
          "text": [
            "range(0, 5)\n"
          ]
        }
      ],
      "source": [
        "a=range(5)\n",
        "print(a)"
      ]
    },
    {
      "cell_type": "code",
      "source": [
        "a=range(3,8)\n",
        "print(list(a))"
      ],
      "metadata": {
        "colab": {
          "base_uri": "https://localhost:8080/"
        },
        "id": "_Idt3bhk9Fra",
        "outputId": "a60d149e-131f-493b-b971-8c5bb35224eb"
      },
      "execution_count": null,
      "outputs": [
        {
          "output_type": "stream",
          "name": "stdout",
          "text": [
            "[3, 4, 5, 6, 7]\n"
          ]
        }
      ]
    },
    {
      "cell_type": "code",
      "source": [
        "b=range(-2,4)\n",
        "print(list(b))"
      ],
      "metadata": {
        "colab": {
          "base_uri": "https://localhost:8080/"
        },
        "id": "xQR4WTVu9giU",
        "outputId": "b99a43f9-0f72-4765-dbcc-2c09d502a9d6"
      },
      "execution_count": null,
      "outputs": [
        {
          "output_type": "stream",
          "name": "stdout",
          "text": [
            "[-2, -1, 0, 1, 2, 3]\n"
          ]
        }
      ]
    },
    {
      "cell_type": "code",
      "source": [
        "c=range(3,8,1)\n",
        "print(list(c))"
      ],
      "metadata": {
        "colab": {
          "base_uri": "https://localhost:8080/"
        },
        "id": "s5KZAo9j_Iaw",
        "outputId": "6df62e93-88eb-45e8-ec06-13f1b88e3cdc"
      },
      "execution_count": null,
      "outputs": [
        {
          "output_type": "stream",
          "name": "stdout",
          "text": [
            "[3, 4, 5, 6, 7]\n"
          ]
        }
      ]
    },
    {
      "cell_type": "code",
      "source": [
        "d=range(3,8,2)\n",
        "print(list(d))"
      ],
      "metadata": {
        "colab": {
          "base_uri": "https://localhost:8080/"
        },
        "id": "v4jmpGhJ_I6z",
        "outputId": "e0b7324b-eeca-4c36-a115-5243caee1a15"
      },
      "execution_count": null,
      "outputs": [
        {
          "output_type": "stream",
          "name": "stdout",
          "text": [
            "[3, 5, 7]\n"
          ]
        }
      ]
    },
    {
      "cell_type": "code",
      "source": [
        "e=range(8,3,-1)\n",
        "print(list(e))"
      ],
      "metadata": {
        "colab": {
          "base_uri": "https://localhost:8080/"
        },
        "id": "BCE1GXuH_JFm",
        "outputId": "6520cbab-5cbc-4710-aadf-1d0e00fbc5d1"
      },
      "execution_count": null,
      "outputs": [
        {
          "output_type": "stream",
          "name": "stdout",
          "text": [
            "[8, 7, 6, 5, 4]\n"
          ]
        }
      ]
    },
    {
      "cell_type": "code",
      "source": [
        "f=range(0,9,1)\n",
        "print(list(f))"
      ],
      "metadata": {
        "colab": {
          "base_uri": "https://localhost:8080/"
        },
        "id": "s6etpj2n_JSf",
        "outputId": "86d94121-66d8-4b08-ac09-28db310c390f"
      },
      "execution_count": null,
      "outputs": [
        {
          "output_type": "stream",
          "name": "stdout",
          "text": [
            "[0, 1, 2, 3, 4, 5, 6, 7, 8]\n"
          ]
        }
      ]
    },
    {
      "cell_type": "code",
      "source": [
        "g=range(1,10,1)\n",
        "print(list(g))"
      ],
      "metadata": {
        "colab": {
          "base_uri": "https://localhost:8080/"
        },
        "id": "skc8me_O_JaM",
        "outputId": "934f4098-55eb-4ad5-a33a-b42f9898f872"
      },
      "execution_count": null,
      "outputs": [
        {
          "output_type": "stream",
          "name": "stdout",
          "text": [
            "[1, 2, 3, 4, 5, 6, 7, 8, 9]\n"
          ]
        }
      ]
    },
    {
      "cell_type": "code",
      "source": [
        "h=range(1,10,2)\n",
        "print(list(h))"
      ],
      "metadata": {
        "colab": {
          "base_uri": "https://localhost:8080/"
        },
        "id": "dU0nfJBYBT53",
        "outputId": "e1f618f0-1495-43bb-bef4-4f0097312c0a"
      },
      "execution_count": null,
      "outputs": [
        {
          "output_type": "stream",
          "name": "stdout",
          "text": [
            "[1, 3, 5, 7, 9]\n"
          ]
        }
      ]
    },
    {
      "cell_type": "code",
      "source": [
        "i=range(10,0,-2)\n",
        "print(list(i))"
      ],
      "metadata": {
        "colab": {
          "base_uri": "https://localhost:8080/"
        },
        "id": "BhF1mfD8BT-K",
        "outputId": "71518d21-02f9-4963-eeab-2dd711129682"
      },
      "execution_count": null,
      "outputs": [
        {
          "output_type": "stream",
          "name": "stdout",
          "text": [
            "[10, 8, 6, 4, 2]\n"
          ]
        }
      ]
    },
    {
      "cell_type": "code",
      "source": [
        ""
      ],
      "metadata": {
        "id": "4F1bRouZK31W"
      },
      "execution_count": null,
      "outputs": []
    },
    {
      "cell_type": "code",
      "source": [
        "for n in range(3):\n",
        "  print(n)"
      ],
      "metadata": {
        "colab": {
          "base_uri": "https://localhost:8080/"
        },
        "id": "80OMkyWJDGtQ",
        "outputId": "74a72d3c-f887-4bed-e052-812fcf0da66d"
      },
      "execution_count": null,
      "outputs": [
        {
          "output_type": "stream",
          "name": "stdout",
          "text": [
            "0\n",
            "1\n",
            "2\n"
          ]
        }
      ]
    },
    {
      "cell_type": "code",
      "source": [
        "for n in range(10):\n",
        "  print(n,end=\",\")"
      ],
      "metadata": {
        "colab": {
          "base_uri": "https://localhost:8080/"
        },
        "id": "B4nSD96yDGwI",
        "outputId": "47899144-1650-4eea-a200-39edf110714d"
      },
      "execution_count": null,
      "outputs": [
        {
          "output_type": "stream",
          "name": "stdout",
          "text": [
            "0,1,2,3,4,5,6,7,8,9,"
          ]
        }
      ]
    },
    {
      "cell_type": "code",
      "source": [
        "for m in range(0,12,2):\n",
        "  print(m,end=\",\")"
      ],
      "metadata": {
        "colab": {
          "base_uri": "https://localhost:8080/"
        },
        "id": "7-D3rNZjDGyz",
        "outputId": "4ddb4d42-13aa-4dbc-f17a-9c7043840571"
      },
      "execution_count": null,
      "outputs": [
        {
          "output_type": "stream",
          "name": "stdout",
          "text": [
            "0,2,4,6,8,10,"
          ]
        }
      ]
    },
    {
      "cell_type": "code",
      "source": [
        "o=int(input(\"請輸入正整數\"))\n",
        "for a in range(o):\n",
        "  b=a+1\n",
        "  print(b, end=\",\")\n",
        "\n"
      ],
      "metadata": {
        "colab": {
          "base_uri": "https://localhost:8080/"
        },
        "id": "q4nyNMudDG1n",
        "outputId": "c48c51f6-29a0-405d-b667-d206e5639974"
      },
      "execution_count": null,
      "outputs": [
        {
          "output_type": "stream",
          "name": "stdout",
          "text": [
            "請輸入正整數5\n",
            "1,2,3,4,5,"
          ]
        }
      ]
    },
    {
      "cell_type": "code",
      "source": [
        "o=int(input(\"請輸入正整數\"))\n",
        "for a in range(o):\n",
        "  b=a+1\n",
        "  print(b, end=\",\")\n"
      ],
      "metadata": {
        "colab": {
          "base_uri": "https://localhost:8080/"
        },
        "id": "Jw2zCrJTDG4e",
        "outputId": "48713f41-e835-4dea-a8af-52e9e674fa7b"
      },
      "execution_count": null,
      "outputs": [
        {
          "output_type": "stream",
          "name": "stdout",
          "text": [
            "請輸入正整數12\n",
            "1,2,3,4,5,6,7,8,9,10,11,12,"
          ]
        }
      ]
    },
    {
      "cell_type": "code",
      "source": [
        "sum =0\n",
        "for a in range(3):\n",
        "  sum=sum+a\n",
        "print(sum)\n"
      ],
      "metadata": {
        "colab": {
          "base_uri": "https://localhost:8080/"
        },
        "id": "niqO2_9MJ47m",
        "outputId": "385f889e-3643-4a89-fd44-3185bdf3df30"
      },
      "execution_count": null,
      "outputs": [
        {
          "output_type": "stream",
          "name": "stdout",
          "text": [
            "3\n"
          ]
        }
      ]
    },
    {
      "cell_type": "code",
      "source": [
        "sum=0\n",
        "for a in range(10,1,-2):\n",
        "  sum=sum+a\n",
        "print(sum)\n"
      ],
      "metadata": {
        "colab": {
          "base_uri": "https://localhost:8080/"
        },
        "id": "Z8DDuUcPK5Fe",
        "outputId": "31792543-2dcd-46b9-a669-b0603fad6d16"
      },
      "execution_count": null,
      "outputs": [
        {
          "output_type": "stream",
          "name": "stdout",
          "text": [
            "30\n"
          ]
        }
      ]
    },
    {
      "cell_type": "code",
      "source": [
        "a=int(input(\"請輸入正整數\"))\n",
        "sum = 0\n",
        "for b in range(a):\n",
        "  c=b+1\n",
        "  sum=sum+c\n",
        "print(\"1到10的整數和\",sum)"
      ],
      "metadata": {
        "colab": {
          "base_uri": "https://localhost:8080/"
        },
        "id": "XPJBj3PbL0cz",
        "outputId": "d3bf5d7f-41d3-4ce1-9b1f-c20d5039ec52"
      },
      "execution_count": null,
      "outputs": [
        {
          "output_type": "stream",
          "name": "stdout",
          "text": [
            "請輸入正整數10\n",
            "1到10的整數和 55\n"
          ]
        }
      ]
    },
    {
      "cell_type": "code",
      "source": [
        "a=int(input(\"請輸入正整數\"))\n",
        "sum=0\n",
        "for b in range(a):\n",
        "  c=b+1\n",
        "  sum=sum+c\n",
        "print(\"1到50的整數和\",sum)\n"
      ],
      "metadata": {
        "id": "3zSHn-HmM1qx",
        "colab": {
          "base_uri": "https://localhost:8080/"
        },
        "outputId": "20a94695-99bd-404e-bd89-a2bc228226ff"
      },
      "execution_count": null,
      "outputs": [
        {
          "output_type": "stream",
          "name": "stdout",
          "text": [
            "請輸入正整數50\n",
            "1到50的整數和 1275\n"
          ]
        }
      ]
    },
    {
      "cell_type": "code",
      "source": [
        "a=int(input(\"請輸入正整數\"))\n",
        "sum=0\n",
        "for b in range(a):\n",
        "  e=b+1\n",
        "  sum=sum+e\n",
        "  print(\"1到\",e,\"的整數和:\",sum,\"\\n\")"
      ],
      "metadata": {
        "colab": {
          "base_uri": "https://localhost:8080/"
        },
        "id": "30GRdg5I9GMO",
        "outputId": "7f74f471-8d02-4006-d8ed-63a945ee1830"
      },
      "execution_count": 28,
      "outputs": [
        {
          "output_type": "stream",
          "name": "stdout",
          "text": [
            "請輸入正整數10\n",
            "1到 1 的整數和: 1 \n",
            "\n",
            "1到 2 的整數和: 3 \n",
            "\n",
            "1到 3 的整數和: 6 \n",
            "\n",
            "1到 4 的整數和: 10 \n",
            "\n",
            "1到 5 的整數和: 15 \n",
            "\n",
            "1到 6 的整數和: 21 \n",
            "\n",
            "1到 7 的整數和: 28 \n",
            "\n",
            "1到 8 的整數和: 36 \n",
            "\n",
            "1到 9 的整數和: 45 \n",
            "\n",
            "1到 10 的整數和: 55 \n",
            "\n"
          ]
        }
      ]
    }
  ]
}
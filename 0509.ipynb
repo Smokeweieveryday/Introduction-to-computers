{
  "nbformat": 4,
  "nbformat_minor": 0,
  "metadata": {
    "colab": {
      "name": "0509.ipynb",
      "provenance": [],
      "authorship_tag": "ABX9TyOA5Xd6Gw6+xOnT7bUPdtco",
      "include_colab_link": true
    },
    "kernelspec": {
      "name": "python3",
      "display_name": "Python 3"
    },
    "language_info": {
      "name": "python"
    }
  },
  "cells": [
    {
      "cell_type": "markdown",
      "metadata": {
        "id": "view-in-github",
        "colab_type": "text"
      },
      "source": [
        "<a href=\"https://colab.research.google.com/github/Smokeweieveryday/Introduction-to-computers/blob/main/0509.ipynb\" target=\"_parent\"><img src=\"https://colab.research.google.com/assets/colab-badge.svg\" alt=\"Open In Colab\"/></a>"
      ]
    },
    {
      "cell_type": "code",
      "execution_count": 30,
      "metadata": {
        "colab": {
          "base_uri": "https://localhost:8080/"
        },
        "id": "6v34DEb_7hjU",
        "outputId": "b46d9e3a-cef3-42bb-a75a-9af9d18e1d0a"
      },
      "outputs": [
        {
          "output_type": "stream",
          "name": "stdout",
          "text": [
            "輸入體溫43\n",
            "過高\n"
          ]
        }
      ],
      "source": [
        "temp=float(input('輸入體溫'))\n",
        "if temp>=37.5:\n",
        "    print('過高')\n",
        "elif temp >= 37 and temp < 37.4:\n",
        "    print('略高')\n",
        "elif temp >= 34 and temp <36.9:\n",
        "  print('正常')\n",
        "else:\n",
        "  print('異常，請重測')"
      ]
    },
    {
      "cell_type": "code",
      "source": [
        "z=int(input('請輸入成績'))\n",
        "if z>=90:\n",
        "  print('A')\n",
        "elif z>=80 and z<=89:\n",
        "  print('B')\n",
        "elif z>=70 and z<=79:\n",
        "  print('C')\n",
        "elif z>=60 and z<=69:\n",
        "  print('D')\n",
        "else:\n",
        "  print('E')"
      ],
      "metadata": {
        "colab": {
          "base_uri": "https://localhost:8080/"
        },
        "id": "kIGk81jM_ylA",
        "outputId": "c8115672-2cdd-42c1-c449-7944ff889f62"
      },
      "execution_count": 29,
      "outputs": [
        {
          "output_type": "stream",
          "name": "stdout",
          "text": [
            "請輸入成績69\n",
            "D\n"
          ]
        }
      ]
    },
    {
      "cell_type": "code",
      "source": [
        "money=int(input('輸入購物金額'))\n",
        "if(money>=10000):\n",
        "  if(money>=100000):\n",
        "    print('八折',money*0.8,end = '元\\n')\n",
        "  elif(money>=50000):\n",
        "    print('八五折',money*0.85,end = '元\\n')\n",
        "  elif(money>=30000):\n",
        "    print('九折',money*0.9,end = '元\\n')\n",
        "  elif(money>=10000):\n",
        "    print('九五折',money*0.95,end = '元\\n')\n",
        "else:\n",
        "  print('沒打折',money,end = '元\\n')"
      ],
      "metadata": {
        "colab": {
          "base_uri": "https://localhost:8080/"
        },
        "id": "sGoInwanE0fI",
        "outputId": "44534842-9d55-41f7-b5a8-2392ac3281ec"
      },
      "execution_count": 32,
      "outputs": [
        {
          "output_type": "stream",
          "name": "stdout",
          "text": [
            "輸入購物金額10000\n",
            "九五折 9500.0元\n"
          ]
        }
      ]
    },
    {
      "cell_type": "code",
      "source": [
        "a=int(input('輸入月份'))\n",
        "if a>=3 and a<=5:\n",
        "  print('春天')\n",
        "elif a>=6 and a<=8:\n",
        "  print('夏天')\n",
        "elif a>=9 and a<=11:\n",
        "  print('秋天')\n",
        "elif a==12 or a<=2:\n",
        "  print('冬天')\n",
        "else:\n",
        "  print('月份不再範圍')\n",
        "\n"
      ],
      "metadata": {
        "colab": {
          "base_uri": "https://localhost:8080/"
        },
        "id": "GeW6w8dJHW3P",
        "outputId": "9db96daa-2aad-4fd7-dcc4-319975225e9f"
      },
      "execution_count": 50,
      "outputs": [
        {
          "output_type": "stream",
          "name": "stdout",
          "text": [
            "輸入月份1\n",
            "冬天\n"
          ]
        }
      ]
    },
    {
      "cell_type": "code",
      "source": [
        "a=int(input('輸入收入淨額'))\n",
        "if a>=2000000:\n",
        "  print('付稅金額',a*0.3,end = '元\\n')\n",
        "elif a>=1000000:\n",
        "  print('付稅金額',a*0.21,end = '元\\n')\n",
        "elif a>=600000:\n",
        "  print('付稅金額',a*0.13,end = '元\\n')\n",
        "elif a>=300000:\n",
        "  print('付稅金額',a*0.06,end = '元\\n')\n",
        "else:\n",
        "  print('付稅金額 0',end = '元\\n')"
      ],
      "metadata": {
        "colab": {
          "base_uri": "https://localhost:8080/"
        },
        "id": "LNbbjDMwIsdg",
        "outputId": "90fb403e-a9dc-44c4-df5a-419d4a8eca01"
      },
      "execution_count": 40,
      "outputs": [
        {
          "output_type": "stream",
          "name": "stdout",
          "text": [
            "輸入收入淨額2000000\n",
            "付稅金額 600000.0元\n"
          ]
        }
      ]
    },
    {
      "cell_type": "code",
      "source": [
        ""
      ],
      "metadata": {
        "id": "wNut3hCCKQzo"
      },
      "execution_count": null,
      "outputs": []
    }
  ]
}